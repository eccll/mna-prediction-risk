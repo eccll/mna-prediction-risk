{
 "cells": [
  {
   "cell_type": "markdown",
   "id": "57c1067e",
   "metadata": {},
   "source": [
    "# M&A Prediction with Risk (S&P 500)"
   ]
  },
  {
   "cell_type": "markdown",
   "id": "2e8ac57a",
   "metadata": {},
   "source": [
    "Part I Project Overview - This project identifies private equity targets within the S&P500 using a structured financial screening framework. It applies clear and practical investment logic to highlight companies that align with typical buyout characteristics."
   ]
  },
  {
   "cell_type": "markdown",
   "id": "f368e19c",
   "metadata": {},
   "source": [
    "Ticker Collection"
   ]
  },
  {
   "cell_type": "code",
   "execution_count": 2,
   "id": "816f83d1",
   "metadata": {},
   "outputs": [
    {
     "name": "stdout",
     "output_type": "stream",
     "text": [
      "Total companies: 503\n",
      "Sample tickers: ['MMM', 'AOS', 'ABT', 'ABBV', 'ACN', 'ADBE', 'AMD', 'AES', 'AFL', 'A']\n"
     ]
    }
   ],
   "source": [
    "import pandas as pd\n",
    "\n",
    "df = pd.read_csv(\"constituents.csv\")\n",
    "df[\"Symbol\"] = df[\"Symbol\"].str.replace(\".\", \"-\", regex=False)\n",
    "symbols = df[\"Symbol\"].tolist()\n",
    "\n",
    "print(\"Total companies:\", len(symbols))\n",
    "print(\"Sample tickers:\", symbols[:10])"
   ]
  },
  {
   "cell_type": "markdown",
   "id": "162156b5",
   "metadata": {},
   "source": [
    "Filtering by sector "
   ]
  },
  {
   "cell_type": "code",
   "execution_count": 3,
   "id": "cbb95768",
   "metadata": {},
   "outputs": [
    {
     "name": "stdout",
     "output_type": "stream",
     "text": [
      "Remaining after sector filter: 256\n"
     ]
    },
    {
     "data": {
      "text/html": [
       "<div>\n",
       "<style scoped>\n",
       "    .dataframe tbody tr th:only-of-type {\n",
       "        vertical-align: middle;\n",
       "    }\n",
       "\n",
       "    .dataframe tbody tr th {\n",
       "        vertical-align: top;\n",
       "    }\n",
       "\n",
       "    .dataframe thead th {\n",
       "        text-align: right;\n",
       "    }\n",
       "</style>\n",
       "<table border=\"1\" class=\"dataframe\">\n",
       "  <thead>\n",
       "    <tr style=\"text-align: right;\">\n",
       "      <th></th>\n",
       "      <th>Symbol</th>\n",
       "      <th>Security</th>\n",
       "      <th>GICS Sector</th>\n",
       "      <th>GICS Sub-Industry</th>\n",
       "      <th>Headquarters Location</th>\n",
       "      <th>Date added</th>\n",
       "      <th>CIK</th>\n",
       "      <th>Founded</th>\n",
       "    </tr>\n",
       "  </thead>\n",
       "  <tbody>\n",
       "    <tr>\n",
       "      <th>0</th>\n",
       "      <td>MMM</td>\n",
       "      <td>3M</td>\n",
       "      <td>Industrials</td>\n",
       "      <td>Industrial Conglomerates</td>\n",
       "      <td>Saint Paul, Minnesota</td>\n",
       "      <td>1957-03-04</td>\n",
       "      <td>66740</td>\n",
       "      <td>1902</td>\n",
       "    </tr>\n",
       "    <tr>\n",
       "      <th>1</th>\n",
       "      <td>AOS</td>\n",
       "      <td>A. O. Smith</td>\n",
       "      <td>Industrials</td>\n",
       "      <td>Building Products</td>\n",
       "      <td>Milwaukee, Wisconsin</td>\n",
       "      <td>2017-07-26</td>\n",
       "      <td>91142</td>\n",
       "      <td>1916</td>\n",
       "    </tr>\n",
       "    <tr>\n",
       "      <th>2</th>\n",
       "      <td>AFL</td>\n",
       "      <td>Aflac</td>\n",
       "      <td>Financials</td>\n",
       "      <td>Life &amp; Health Insurance</td>\n",
       "      <td>Columbus, Georgia</td>\n",
       "      <td>1999-05-28</td>\n",
       "      <td>4977</td>\n",
       "      <td>1955</td>\n",
       "    </tr>\n",
       "    <tr>\n",
       "      <th>3</th>\n",
       "      <td>ABNB</td>\n",
       "      <td>Airbnb</td>\n",
       "      <td>Consumer Discretionary</td>\n",
       "      <td>Hotels, Resorts &amp; Cruise Lines</td>\n",
       "      <td>San Francisco, California</td>\n",
       "      <td>2023-09-18</td>\n",
       "      <td>1559720</td>\n",
       "      <td>2008</td>\n",
       "    </tr>\n",
       "    <tr>\n",
       "      <th>4</th>\n",
       "      <td>ARE</td>\n",
       "      <td>Alexandria Real Estate Equities</td>\n",
       "      <td>Real Estate</td>\n",
       "      <td>Office REITs</td>\n",
       "      <td>Pasadena, California</td>\n",
       "      <td>2017-03-20</td>\n",
       "      <td>1035443</td>\n",
       "      <td>1994</td>\n",
       "    </tr>\n",
       "  </tbody>\n",
       "</table>\n",
       "</div>"
      ],
      "text/plain": [
       "  Symbol                         Security             GICS Sector  \\\n",
       "0    MMM                               3M             Industrials   \n",
       "1    AOS                      A. O. Smith             Industrials   \n",
       "2    AFL                            Aflac              Financials   \n",
       "3   ABNB                           Airbnb  Consumer Discretionary   \n",
       "4    ARE  Alexandria Real Estate Equities             Real Estate   \n",
       "\n",
       "                GICS Sub-Industry      Headquarters Location  Date added  \\\n",
       "0        Industrial Conglomerates      Saint Paul, Minnesota  1957-03-04   \n",
       "1               Building Products       Milwaukee, Wisconsin  2017-07-26   \n",
       "2         Life & Health Insurance          Columbus, Georgia  1999-05-28   \n",
       "3  Hotels, Resorts & Cruise Lines  San Francisco, California  2023-09-18   \n",
       "4                    Office REITs       Pasadena, California  2017-03-20   \n",
       "\n",
       "       CIK Founded  \n",
       "0    66740    1902  \n",
       "1    91142    1916  \n",
       "2     4977    1955  \n",
       "3  1559720    2008  \n",
       "4  1035443    1994  "
      ]
     },
     "execution_count": 3,
     "metadata": {},
     "output_type": "execute_result"
    }
   ],
   "source": [
    "pe_sectors = [\n",
    "    \"Technology\",\n",
    "    \"Healthcare\",\n",
    "    \"Industrials\",\n",
    "    \"Real Estate\",\n",
    "    \"Consumer Discretionary\",\n",
    "    \"Financials\",\n",
    "    \"Energy\"\n",
    "]\n",
    "\n",
    "df_sector_filtered = df[df[\"GICS Sector\"].isin(pe_sectors)].reset_index(drop=True)\n",
    "\n",
    "print(\"Remaining after sector filter:\", len(df_sector_filtered))\n",
    "df_sector_filtered.head()"
   ]
  },
  {
   "cell_type": "markdown",
   "id": "0751d626",
   "metadata": {},
   "source": [
    "Gather financial metrics through yfinance"
   ]
  },
  {
   "cell_type": "code",
   "execution_count": 4,
   "id": "8a1a0f67",
   "metadata": {},
   "outputs": [
    {
     "data": {
      "text/html": [
       "<div>\n",
       "<style scoped>\n",
       "    .dataframe tbody tr th:only-of-type {\n",
       "        vertical-align: middle;\n",
       "    }\n",
       "\n",
       "    .dataframe tbody tr th {\n",
       "        vertical-align: top;\n",
       "    }\n",
       "\n",
       "    .dataframe thead th {\n",
       "        text-align: right;\n",
       "    }\n",
       "</style>\n",
       "<table border=\"1\" class=\"dataframe\">\n",
       "  <thead>\n",
       "    <tr style=\"text-align: right;\">\n",
       "      <th></th>\n",
       "      <th>Symbol</th>\n",
       "      <th>Market_Cap</th>\n",
       "      <th>EBITDA_Margin</th>\n",
       "      <th>ROA</th>\n",
       "      <th>Debt_Equity</th>\n",
       "      <th>Sector</th>\n",
       "      <th>Sub_Industry</th>\n",
       "    </tr>\n",
       "  </thead>\n",
       "  <tbody>\n",
       "    <tr>\n",
       "      <th>0</th>\n",
       "      <td>MMM</td>\n",
       "      <td>72980520960</td>\n",
       "      <td>0.22258</td>\n",
       "      <td>0.05929</td>\n",
       "      <td>350.770</td>\n",
       "      <td>Industrials</td>\n",
       "      <td>Conglomerates</td>\n",
       "    </tr>\n",
       "    <tr>\n",
       "      <th>1</th>\n",
       "      <td>AOS</td>\n",
       "      <td>9167196160</td>\n",
       "      <td>0.20364</td>\n",
       "      <td>0.13533</td>\n",
       "      <td>12.132</td>\n",
       "      <td>Industrials</td>\n",
       "      <td>Specialty Industrial Machinery</td>\n",
       "    </tr>\n",
       "    <tr>\n",
       "      <th>2</th>\n",
       "      <td>AFL</td>\n",
       "      <td>58980765696</td>\n",
       "      <td>0.35156</td>\n",
       "      <td>0.03384</td>\n",
       "      <td>37.796</td>\n",
       "      <td>Financial Services</td>\n",
       "      <td>Insurance - Life</td>\n",
       "    </tr>\n",
       "    <tr>\n",
       "      <th>3</th>\n",
       "      <td>ABNB</td>\n",
       "      <td>71230423040</td>\n",
       "      <td>0.23275</td>\n",
       "      <td>0.07671</td>\n",
       "      <td>27.271</td>\n",
       "      <td>Consumer Cyclical</td>\n",
       "      <td>Travel Services</td>\n",
       "    </tr>\n",
       "    <tr>\n",
       "      <th>4</th>\n",
       "      <td>ARE</td>\n",
       "      <td>13684294656</td>\n",
       "      <td>0.62756</td>\n",
       "      <td>0.01419</td>\n",
       "      <td>56.930</td>\n",
       "      <td>Real Estate</td>\n",
       "      <td>REIT - Office</td>\n",
       "    </tr>\n",
       "  </tbody>\n",
       "</table>\n",
       "</div>"
      ],
      "text/plain": [
       "  Symbol   Market_Cap  EBITDA_Margin      ROA  Debt_Equity  \\\n",
       "0    MMM  72980520960        0.22258  0.05929      350.770   \n",
       "1    AOS   9167196160        0.20364  0.13533       12.132   \n",
       "2    AFL  58980765696        0.35156  0.03384       37.796   \n",
       "3   ABNB  71230423040        0.23275  0.07671       27.271   \n",
       "4    ARE  13684294656        0.62756  0.01419       56.930   \n",
       "\n",
       "               Sector                    Sub_Industry  \n",
       "0         Industrials                   Conglomerates  \n",
       "1         Industrials  Specialty Industrial Machinery  \n",
       "2  Financial Services                Insurance - Life  \n",
       "3   Consumer Cyclical                 Travel Services  \n",
       "4         Real Estate                   REIT - Office  "
      ]
     },
     "execution_count": 4,
     "metadata": {},
     "output_type": "execute_result"
    }
   ],
   "source": [
    "import yfinance as yf\n",
    "import time\n",
    "\n",
    "symbols = df_sector_filtered[\"Symbol\"].tolist()\n",
    "financials = []\n",
    "\n",
    "for symbol in symbols:\n",
    "    try:\n",
    "        stock = yf.Ticker(symbol)\n",
    "        info = stock.info\n",
    "\n",
    "        financials.append({\n",
    "            \"Symbol\": symbol,\n",
    "            \"Market_Cap\": info.get(\"marketCap\"),\n",
    "            \"EBITDA_Margin\": info.get(\"ebitdaMargins\"),\n",
    "            \"ROA\": info.get(\"returnOnAssets\"),\n",
    "            \"Debt_Equity\": info.get(\"debtToEquity\"),\n",
    "            \"Sector\": info.get(\"sector\"),\n",
    "            \"Sub_Industry\": info.get(\"industry\")\n",
    "        })\n",
    "\n",
    "        time.sleep(0.5)\n",
    "    except Exception as e:\n",
    "        print(symbol, \"error:\", e)\n",
    "\n",
    "df_fin = pd.DataFrame(financials)\n",
    "df_fin.to_csv(\"filtered_sector_financials.csv\", index=False)\n",
    "df_fin.head()"
   ]
  },
  {
   "cell_type": "markdown",
   "id": "29e2a52c",
   "metadata": {},
   "source": [
    "Prioritize companies with solid size healthy profitability and manageable debt"
   ]
  },
  {
   "cell_type": "code",
   "execution_count": 13,
   "id": "ab5e7a48",
   "metadata": {},
   "outputs": [
    {
     "name": "stdout",
     "output_type": "stream",
     "text": [
      "After Market Cap filter: 111\n",
      "After Profitability filter: 93\n",
      "After Leverage filter: 3\n"
     ]
    },
    {
     "data": {
      "text/html": [
       "<div>\n",
       "<style scoped>\n",
       "    .dataframe tbody tr th:only-of-type {\n",
       "        vertical-align: middle;\n",
       "    }\n",
       "\n",
       "    .dataframe tbody tr th {\n",
       "        vertical-align: top;\n",
       "    }\n",
       "\n",
       "    .dataframe thead th {\n",
       "        text-align: right;\n",
       "    }\n",
       "</style>\n",
       "<table border=\"1\" class=\"dataframe\">\n",
       "  <thead>\n",
       "    <tr style=\"text-align: right;\">\n",
       "      <th></th>\n",
       "      <th>Symbol</th>\n",
       "      <th>Market_Cap</th>\n",
       "      <th>EBITDA_Margin</th>\n",
       "      <th>ROA</th>\n",
       "      <th>Debt_Equity</th>\n",
       "      <th>Sector</th>\n",
       "      <th>Sub_Industry</th>\n",
       "    </tr>\n",
       "  </thead>\n",
       "  <tbody>\n",
       "    <tr>\n",
       "      <th>0</th>\n",
       "      <td>ERIE</td>\n",
       "      <td>21947117568</td>\n",
       "      <td>0.20193</td>\n",
       "      <td>0.16552</td>\n",
       "      <td>0.378</td>\n",
       "      <td>Financial Services</td>\n",
       "      <td>Insurance Brokers</td>\n",
       "    </tr>\n",
       "    <tr>\n",
       "      <th>1</th>\n",
       "      <td>TROW</td>\n",
       "      <td>19463954432</td>\n",
       "      <td>0.39812</td>\n",
       "      <td>0.11412</td>\n",
       "      <td>2.950</td>\n",
       "      <td>Financial Services</td>\n",
       "      <td>Asset Management</td>\n",
       "    </tr>\n",
       "    <tr>\n",
       "      <th>2</th>\n",
       "      <td>TPL</td>\n",
       "      <td>29079910400</td>\n",
       "      <td>0.80685</td>\n",
       "      <td>0.28298</td>\n",
       "      <td>0.110</td>\n",
       "      <td>Energy</td>\n",
       "      <td>Oil &amp; Gas E&amp;P</td>\n",
       "    </tr>\n",
       "  </tbody>\n",
       "</table>\n",
       "</div>"
      ],
      "text/plain": [
       "  Symbol   Market_Cap  EBITDA_Margin      ROA  Debt_Equity  \\\n",
       "0   ERIE  21947117568        0.20193  0.16552        0.378   \n",
       "1   TROW  19463954432        0.39812  0.11412        2.950   \n",
       "2    TPL  29079910400        0.80685  0.28298        0.110   \n",
       "\n",
       "               Sector       Sub_Industry  \n",
       "0  Financial Services  Insurance Brokers  \n",
       "1  Financial Services   Asset Management  \n",
       "2              Energy      Oil & Gas E&P  "
      ]
     },
     "execution_count": 13,
     "metadata": {},
     "output_type": "execute_result"
    }
   ],
   "source": [
    "# Market cap filter (1B-30B)\n",
    "df1 = df_fin[\n",
    "    (df_fin[\"Market_Cap\"] >= 1e9) &\n",
    "    (df_fin[\"Market_Cap\"] <= 3e10)\n",
    "]\n",
    "print(\"After Market Cap filter:\", df1.shape[0])\n",
    "\n",
    "#Profitability filter (EBITDA margin ≥ 10%, ROA > 0)\n",
    "df2 = df1[\n",
    "    (df1[\"EBITDA_Margin\"] >= 0.10) &\n",
    "    (df1[\"ROA\"] > 0)\n",
    "]\n",
    "print(\"After Profitability filter:\", df2.shape[0])\n",
    "\n",
    "#Leverage filter (D/E < 4.0)\n",
    "df3 = df2[df2[\"Debt_Equity\"] < 4.0]\n",
    "print(\"After Leverage filter:\", df3.shape[0])\n",
    "\n",
    "#Final target candidates\n",
    "df3.reset_index(drop=True, inplace=True)\n",
    "df3.to_csv(\"pe_target_candidates_filtered.csv\", index=False)\n",
    "df3.head()\n"
   ]
  },
  {
   "cell_type": "markdown",
   "id": "796f860b",
   "metadata": {},
   "source": [
    "Summary"
   ]
  },
  {
   "cell_type": "code",
   "execution_count": 22,
   "id": "e288f2b7",
   "metadata": {},
   "outputs": [
    {
     "data": {
      "image/png": "[encoded data removed]",
      "text/plain": [
       "<Figure size 800x500 with 1 Axes>"
      ]
     },
     "metadata": {},
     "output_type": "display_data"
    }
   ],
   "source": [
    "import matplotlib.pyplot as plt\n",
    "\n",
    "filter_counts = {\n",
    "    \"Major Sectors\": df_fin.shape[0],\n",
    "    \"Market Cap\": df1.shape[0],\n",
    "    \"Profitability\": df2.shape[0],\n",
    "    \"Leverage\": df3.shape[0]\n",
    "}\n",
    "\n",
    "x = list(filter_counts.keys())\n",
    "y = list(filter_counts.values())\n",
    "\n",
    "plt.figure(figsize=(8, 5))\n",
    "bars = plt.bar(x, y, color=\"#2E86AB\")\n",
    "\n",
    "for b in bars:\n",
    "    h = b.get_height()\n",
    "    plt.text(b.get_x() + b.get_width()/2, h + 2, f'{h}', ha='center', va='bottom', fontsize=9)\n",
    "\n",
    "plt.title(\"Companies Remaining After Each Filter\")\n",
    "plt.ylabel(\"Number of Companies\")\n",
    "plt.grid(axis=\"y\", linestyle=\"--\", alpha=0.4)\n",
    "plt.tight_layout()\n",
    "plt.savefig(\"filter_step_summary.png\", dpi=300)\n",
    "plt.show()\n",
    "\n"
   ]
  },
  {
   "cell_type": "markdown",
   "id": "e783b648",
   "metadata": {},
   "source": [
    "Comparison of final candiates"
   ]
  },
  {
   "cell_type": "code",
   "execution_count": null,
   "id": "91e9b252",
   "metadata": {},
   "outputs": [
    {
     "data": {
      "image/png": "[encoded data removed]",
      "text/plain": [
       "<Figure size 1000x500 with 2 Axes>"
      ]
     },
     "metadata": {},
     "output_type": "display_data"
    }
   ],
   "source": [
    "final = df3.copy()\n",
    "\n",
    "fig, axs = plt.subplots(1, 2, figsize=(10, 5))\n",
    "\n",
    "axs[0].barh(final[\"Symbol\"], final[\"EBITDA_Margin\"] * 100, color=\"#4CAF50\")\n",
    "axs[0].set_title(\"EBITDA Margin (%)\")\n",
    "axs[0].set_xlabel(\"Percent\")\n",
    "\n",
    "axs[1].barh(final[\"Symbol\"], final[\"ROA\"] * 100, color=\"#1E88E5\")\n",
    "axs[1].set_title(\"Return on Assets (%)\")\n",
    "axs[1].set_xlabel(\"Percent\")\n",
    "\n",
    "plt.tight_layout()\n",
    "plt.savefig(\"final_candidates_comparison_v2.png\", dpi=300)\n",
    "plt.show()\n"
   ]
  }
 ],
 "metadata": {
  "kernelspec": {
   "display_name": "learn-env",
   "language": "python",
   "name": "python3"
  },
  "language_info": {
   "codemirror_mode": {
    "name": "ipython",
    "version": 3
   },
   "file_extension": ".py",
   "mimetype": "text/x-python",
   "name": "python",
   "nbconvert_exporter": "python",
   "pygments_lexer": "ipython3",
   "version": "3.9.21"
  }
 },
 "nbformat": 4,
 "nbformat_minor": 5
}
